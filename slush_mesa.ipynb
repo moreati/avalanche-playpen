{
 "cells": [
  {
   "cell_type": "code",
   "execution_count": 55,
   "metadata": {},
   "outputs": [],
   "source": [
    "import collections\n",
    "import enum\n",
    "import functools\n",
    "import random\n",
    "\n",
    "from mesa import Agent, Model\n",
    "from mesa.datacollection import DataCollector\n",
    "from mesa.space import SingleGrid\n",
    "from mesa.time import RandomActivation\n",
    "\n",
    "\n",
    "num_rounds = 10     # m in the whitepaper\n",
    "num_nodes = 1000   # n in the whitepaper\n",
    "sample_size = 5     # k in the whitepaper\n",
    "sample_threshold = 0.6     # α in the whitepaper\n",
    "\n",
    "\n",
    "assert sample_size < num_nodes\n",
    "assert 0.5 < sample_threshold < 1.0\n",
    "\n",
    "\n",
    "class Color(enum.Enum):\n",
    "    UNCOLORED = 0\n",
    "    RED = 1\n",
    "    BLUE = 2\n",
    "\n",
    "\n",
    "COLORS = list(Color)\n",
    "\n",
    "\n",
    "class SlushNode(Agent):\n",
    "    def __init__(self, unique_id, model, color=Color.UNCOLORED):\n",
    "        super().__init__(unique_id, model)\n",
    "        self.color = color\n",
    "\n",
    "    def on_query(self, color):\n",
    "        if self.color == Color.UNCOLORED:\n",
    "            self.color = color\n",
    "        return self.color\n",
    "\n",
    "    def step(self):\n",
    "        if self.color == Color.UNCOLORED:\n",
    "            return\n",
    "\n",
    "        # TODO Does node n always get scheduled before n+1?\n",
    "        # TODO Does that affect the outcome? How?\n",
    "        others = set(self.model.schedule.agents).difference({self})\n",
    "        contacts = random.sample(others, sample_size)\n",
    "        replies = [contact.on_query(self.color) for contact in contacts]\n",
    "\n",
    "        for color in [Color.RED, Color.BLUE]:\n",
    "            if replies.count(color) > sample_threshold * sample_size:\n",
    "                self.color = color\n",
    "\n",
    "\n",
    "class SlushModel(Model):\n",
    "    def __init__(self, N, w, h):\n",
    "        self.num_agents = N\n",
    "        self.grid = SingleGrid(w, h, False)\n",
    "        self.schedule = RandomActivation(self)\n",
    "\n",
    "        # Create agents\n",
    "        for i in range(self.num_agents):\n",
    "            a = SlushNode(i, self, random.choice(COLORS))\n",
    "            self.schedule.add(a)\n",
    "\n",
    "            x = i // self.grid.height\n",
    "            y = i % self.grid.height\n",
    "            self.grid.place_agent(a, (x, y))\n",
    "\n",
    "        self.datacollector = DataCollector(\n",
    "            model_reporters={\n",
    "                'uncolored': count_uncolored,\n",
    "                'red': count_red,\n",
    "                'blue': count_blue,\n",
    "            },\n",
    "            agent_reporters={'color': 'color'},\n",
    "        )\n",
    "\n",
    "    def step(self):\n",
    "        self.datacollector.collect(self)\n",
    "        self.schedule.step()\n",
    "\n",
    "def count(model, color):\n",
    "    c = collections.Counter(node.color for node in model.schedule.agents)\n",
    "    return c[color]\n",
    "count_uncolored = functools.partial(count, color=Color.UNCOLORED)\n",
    "count_red = functools.partial(count, color=Color.RED)\n",
    "count_blue = functools.partial(count, color=Color.BLUE)\n"
   ]
  },
  {
   "cell_type": "code",
   "execution_count": 61,
   "metadata": {},
   "outputs": [
    {
     "data": {
      "text/plain": [
       "<matplotlib.axes._subplots.AxesSubplot at 0x7f5cd9d3d5c0>"
      ]
     },
     "execution_count": 61,
     "metadata": {},
     "output_type": "execute_result"
    },
    {
     "data": {
      "image/png": "[encoded data removed]",
      "text/plain": [
       "<Figure size 432x288 with 1 Axes>"
      ]
     },
     "metadata": {},
     "output_type": "display_data"
    }
   ],
   "source": [
    "model = SlushModel(num_nodes, 50, 20)\n",
    "for i in range(num_rounds):\n",
    "    model.step()\n",
    "counts = model.datacollector.get_model_vars_dataframe()\n",
    "counts.plot()"
   ]
  },
  {
   "cell_type": "code",
   "execution_count": null,
   "metadata": {},
   "outputs": [],
   "source": []
  }
 ],
 "metadata": {
  "kernelspec": {
   "display_name": "Python 3",
   "language": "python",
   "name": "python3"
  },
  "language_info": {
   "codemirror_mode": {
    "name": "ipython",
    "version": 3
   },
   "file_extension": ".py",
   "mimetype": "text/x-python",
   "name": "python",
   "nbconvert_exporter": "python",
   "pygments_lexer": "ipython3",
   "version": "3.6.5"
  }
 },
 "nbformat": 4,
 "nbformat_minor": 2
}
